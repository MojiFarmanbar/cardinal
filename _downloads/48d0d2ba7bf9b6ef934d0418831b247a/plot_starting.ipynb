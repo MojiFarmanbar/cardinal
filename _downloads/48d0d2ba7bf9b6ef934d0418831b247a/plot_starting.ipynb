{
  "cells": [
    {
      "cell_type": "code",
      "execution_count": null,
      "metadata": {
        "collapsed": false
      },
      "outputs": [],
      "source": [
        "%matplotlib inline"
      ]
    },
    {
      "cell_type": "markdown",
      "metadata": {},
      "source": [
        "\n# Starting an Active Learning experiment\n\nEach active learning experiment starts with zero labeled samples. In that\ncase, no supervised query strategy can be used. It is common to select the\nfirst batch of samples at random however it is proposed in\n`Diverse mini-batch Active Learning <https://arxiv.org/abs/1901.05954>`_\nto use a clustering approach for the first batch.\nThis example shows how to perform this.\n\n"
      ]
    },
    {
      "cell_type": "markdown",
      "metadata": {},
      "source": [
        "We start with necessary imports and initializations\n\n"
      ]
    },
    {
      "cell_type": "code",
      "execution_count": null,
      "metadata": {
        "collapsed": false
      },
      "outputs": [],
      "source": [
        "from matplotlib import pyplot as plt\nimport numpy as np\nfrom time import time\n\nfrom sklearn.datasets import load_digits\nfrom sklearn.ensemble import RandomForestClassifier\nfrom sklearn.model_selection import train_test_split\nfrom sklearn.cluster import KMeans\n\nfrom cardinal.uncertainty import MarginSampler\nfrom cardinal.clustering import KMeansSampler\nfrom cardinal.random import RandomSampler\nfrom cardinal.plotting import plot_confidence_interval\nfrom cardinal.base import BaseQuerySampler\nfrom cardinal.zhdanov2019 import TwoStepKMeansSampler\nfrom cardinal.utils import pad_with_random\n\nnp.random.seed(7)"
      ]
    },
    {
      "cell_type": "markdown",
      "metadata": {},
      "source": [
        "The parameters of this experiment are:\n\n* ``batch_size`` is the number of samples that will be annotated and added to\n  the training set at each iteration,\n* ``n_iter`` is the number of iterations in the simulation.\n\nWe use the digits dataset and a RandomForestClassifier.\n\n"
      ]
    },
    {
      "cell_type": "code",
      "execution_count": null,
      "metadata": {
        "collapsed": false
      },
      "outputs": [],
      "source": [
        "batch_size = 45\nn_iter = 8\n\nX, y = load_digits(return_X_y=True)\nX /= 255.\n\nmodel = RandomForestClassifier()"
      ]
    },
    {
      "cell_type": "markdown",
      "metadata": {},
      "source": [
        "## Core Active Learning Experiment\n\nWe now compare our class sampler to Zhdanov, a simpler KMeans approach and, \nof course, random. For each method, we measure the time spent at each iteration \nand we plot the accuracy depending on the size of the labeled pool but also time spent.\n\n"
      ]
    },
    {
      "cell_type": "code",
      "execution_count": null,
      "metadata": {
        "collapsed": false
      },
      "outputs": [],
      "source": [
        "starting_samplers = [\n    ('KMeans', KMeansSampler(batch_size)),\n    ('Random', RandomSampler(batch_size)),\n]\n\nsamplers = [\n    ('Zhdanov', TwoStepKMeansSampler(5, model, batch_size)),\n    ('Margin', MarginSampler(model, batch_size)),\n]\n\n#figure_accuracies = plt.figure().number\n\n\nfor starting_sampler_name, starting_sampler in starting_samplers:\n    for sampler_name, sampler in samplers:\n    \n        all_accuracies = []\n\n        for k in range(4):\n            X_train, X_test, y_train, y_test = \\\n                train_test_split(X, y, test_size=500, random_state=k)\n\n            accuracies = []\n\n            # We use the starting sampler to kickstart the experiment\n            selected = starting_sampler.fit(X_train).select_samples(X_train)\n\n            # We use binary masks to simplify some operations\n            mask = np.zeros(X_train.shape[0], dtype=bool)\n            indices = np.arange(X_train.shape[0])\n            mask[selected] = True\n\n            # The classic active learning loop\n            for j in range(n_iter):\n                model.fit(X_train[mask], y_train[mask])\n\n                # Record metrics\n                accuracies.append(model.score(X_test, y_test))\n\n                t0 = time()\n                sampler.fit(X_train[mask], y_train[mask])\n                selected = sampler.select_samples(X_train[~mask])\n                mask[indices[~mask][selected]] = True\n\n            all_accuracies.append(accuracies)\n    \n        x_data = np.arange(10, batch_size * (n_iter - 1) + 11, batch_size)\n        plot_confidence_interval(x_data, all_accuracies, label='{} + {}'.format(starting_sampler_name, sampler_name))\n\n\nplt.xlabel('Labeled samples')\nplt.ylabel('Accuracy')\nplt.legend()\nplt.tight_layout()\n\nplt.show()"
      ]
    },
    {
      "cell_type": "markdown",
      "metadata": {},
      "source": [
        "## Discussion\n\nFrom this experiment on a subset of MNIST, we confirm the observation of the\noriginal work: Selecting the first batch of samples using a K-Means sampler\nincreases the accuracy for the first few batches but does not improve the\nfinal result, at least on this dataset and with the query strategies we\nexplore.\n\n"
      ]
    }
  ],
  "metadata": {
    "kernelspec": {
      "display_name": "Python 3",
      "language": "python",
      "name": "python3"
    },
    "language_info": {
      "codemirror_mode": {
        "name": "ipython",
        "version": 3
      },
      "file_extension": ".py",
      "mimetype": "text/x-python",
      "name": "python",
      "nbconvert_exporter": "python",
      "pygments_lexer": "ipython3",
      "version": "3.6.12"
    }
  },
  "nbformat": 4,
  "nbformat_minor": 0
}